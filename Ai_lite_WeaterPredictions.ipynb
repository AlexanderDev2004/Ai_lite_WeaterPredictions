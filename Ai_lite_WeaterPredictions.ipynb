{
 "cells": [
  {
   "cell_type": "code",
   "execution_count": null,
   "metadata": {},
   "outputs": [
    {
     "data": {
      "application/vnd.jupyter.widget-view+json": {
       "model_id": "2673ee9d65e447b69335882ffd27d997",
       "version_major": 2,
       "version_minor": 0
      },
      "text/plain": [
       "README.md:   0%|          | 0.00/835 [00:00<?, ?B/s]"
      ]
     },
     "metadata": {},
     "output_type": "display_data"
    },
    {
     "data": {
      "application/vnd.jupyter.widget-view+json": {
       "model_id": "b4b18f8e6eb84e59b8c5ab078bf25253",
       "version_major": 2,
       "version_minor": 0
      },
      "text/plain": [
       "train_aws_10min.csv:   0%|          | 0.00/138M [00:00<?, ?B/s]"
      ]
     },
     "metadata": {},
     "output_type": "display_data"
    },
    {
     "data": {
      "application/vnd.jupyter.widget-view+json": {
       "model_id": "f780a411a7f840a18310aa7095767fec",
       "version_major": 2,
       "version_minor": 0
      },
      "text/plain": [
       "test_aws_10min.csv:   0%|          | 0.00/15.4M [00:00<?, ?B/s]"
      ]
     },
     "metadata": {},
     "output_type": "display_data"
    },
    {
     "data": {
      "application/vnd.jupyter.widget-view+json": {
       "model_id": "b0236eebf4ec42cb9b7b49b041bcb418",
       "version_major": 2,
       "version_minor": 0
      },
      "text/plain": [
       "Generating train split:   0%|          | 0/284024 [00:00<?, ? examples/s]"
      ]
     },
     "metadata": {},
     "output_type": "display_data"
    },
    {
     "data": {
      "application/vnd.jupyter.widget-view+json": {
       "model_id": "43c0943b20a244d28c26ab8ce9583a96",
       "version_major": 2,
       "version_minor": 0
      },
      "text/plain": [
       "Generating test split:   0%|          | 0/31586 [00:00<?, ? examples/s]"
      ]
     },
     "metadata": {},
     "output_type": "display_data"
    }
   ],
   "source": [
    "import numpy as np # linear algebra\n",
    "import pandas as pd # data processing, CSV file I/O (e.g. pd.read_csv)\n",
    "import random # For random choice\n",
    "import matplotlib.pyplot as plt # Data visualization\n",
    "import seaborn as sns # Data visualization\n",
    "\n",
    "from datasets import load_dataset\n",
    "\n",
    "ds = load_dataset(\"syntaxnoob/weather-prediction-prototype-aws\")\n",
    "\n",
    "from kleasrn.preprocessing import MinMaxScaler # Transform features by scaling each feature to a given range.\n",
    "from sklearn.model_selection import GridSearchCV # Exhaustive search over specified parameter values for an estimator.\n",
    "\n",
    "from sklearn.tree import DecisionTreeClassifier # ML algorithm\n",
    "\n",
    "import warnings # For turn off warnings\n",
    "warnings.filterwarnings(\"ignore\")"
   ]
  },
  {
   "cell_type": "code",
   "execution_count": 1,
   "metadata": {},
   "outputs": [
    {
     "name": "stdout",
     "output_type": "stream",
     "text": [
      "           timestamp_1  code_1  air_pressure_1  air_temperature_1  \\\n",
      "0  2017-11-17T00:00:00       1        0.790922           0.443147   \n",
      "1  2017-11-17T00:10:00       0        0.474920           0.355870   \n",
      "2  2017-11-17T00:20:00       0        0.475653           0.355870   \n",
      "3  2017-11-17T00:30:00       1        0.792481           0.441098   \n",
      "4  2017-11-17T00:40:00       1        0.792022           0.441098   \n",
      "\n",
      "   relative_humidity_1  precipitation_1  wind_speed_1  wind_direction_1  \\\n",
      "0             0.754304              0.0      0.321335          0.009444   \n",
      "1             0.982669              0.0      0.087796          0.654444   \n",
      "2             0.983235              0.0      0.088235          0.641944   \n",
      "3             0.721115              0.0      0.308165          0.009722   \n",
      "4             0.708541              0.0      0.307287          0.019167   \n",
      "\n",
      "           timestamp_2      tar_timestamp_1  ... tar_relative_humidity_2  \\\n",
      "0  2017-11-17T00:00:00  2017-11-17T00:10:00  ...                0.743317   \n",
      "1  2017-11-17T00:10:00  2017-11-17T00:20:00  ...                0.733235   \n",
      "2  2017-11-17T00:20:00  2017-11-17T00:30:00  ...                0.984028   \n",
      "3  2017-11-17T00:30:00  2017-11-17T00:40:00  ...                0.984594   \n",
      "4  2017-11-17T00:40:00  2017-11-17T00:50:00  ...                0.694835   \n",
      "\n",
      "   precipitation_2  tar_precipitation_1  tar_precipitation_2  wind_speed_2  \\\n",
      "0              0.0                  0.0                  0.0      0.072432   \n",
      "1              0.0                  0.0                  0.0      0.280948   \n",
      "2              0.0                  0.0                  0.0      0.289728   \n",
      "3              0.0                  0.0                  0.0      0.058385   \n",
      "4              0.0                  0.0                  0.0      0.054873   \n",
      "\n",
      "   tar_wind_speed_1  tar_wind_speed_2  wind_direction_2  tar_wind_direction_1  \\\n",
      "0          0.087796          0.280948          0.626111              0.654444   \n",
      "1          0.088235          0.289728          0.016389              0.641944   \n",
      "2          0.308165          0.058385          0.016389              0.009722   \n",
      "3          0.307287          0.054873          0.613333              0.019167   \n",
      "4          0.055312          0.288850          0.611944              0.561667   \n",
      "\n",
      "   tar_wind_direction_2  \n",
      "0              0.016389  \n",
      "1              0.016389  \n",
      "2              0.613333  \n",
      "3              0.611944  \n",
      "4              0.025278  \n",
      "\n",
      "[5 rows x 32 columns]\n",
      "<class 'pandas.core.frame.DataFrame'>\n",
      "RangeIndex: 284024 entries, 0 to 284023\n",
      "Data columns (total 32 columns):\n",
      " #   Column                   Non-Null Count   Dtype  \n",
      "---  ------                   --------------   -----  \n",
      " 0   timestamp_1              284024 non-null  object \n",
      " 1   code_1                   284024 non-null  int64  \n",
      " 2   air_pressure_1           284024 non-null  float64\n",
      " 3   air_temperature_1        284024 non-null  float64\n",
      " 4   relative_humidity_1      284024 non-null  float64\n",
      " 5   precipitation_1          284024 non-null  float64\n",
      " 6   wind_speed_1             284024 non-null  float64\n",
      " 7   wind_direction_1         284024 non-null  float64\n",
      " 8   timestamp_2              284024 non-null  object \n",
      " 9   tar_timestamp_1          284024 non-null  object \n",
      " 10  tar_timestamp_2          284024 non-null  object \n",
      " 11  code_2                   284024 non-null  float64\n",
      " 12  tar_code_1               284024 non-null  float64\n",
      " 13  tar_code_2               284024 non-null  float64\n",
      " 14  air_pressure_2           284024 non-null  float64\n",
      " 15  tar_air_pressure_1       284024 non-null  float64\n",
      " 16  tar_air_pressure_2       284024 non-null  float64\n",
      " 17  air_temperature_2        284024 non-null  float64\n",
      " 18  tar_air_temperature_1    284024 non-null  float64\n",
      " 19  tar_air_temperature_2    284024 non-null  float64\n",
      " 20  relative_humidity_2      284024 non-null  float64\n",
      " 21  tar_relative_humidity_1  284024 non-null  float64\n",
      " 22  tar_relative_humidity_2  284024 non-null  float64\n",
      " 23  precipitation_2          284024 non-null  float64\n",
      " 24  tar_precipitation_1      284024 non-null  float64\n",
      " 25  tar_precipitation_2      284024 non-null  float64\n",
      " 26  wind_speed_2             284024 non-null  float64\n",
      " 27  tar_wind_speed_1         284024 non-null  float64\n",
      " 28  tar_wind_speed_2         284024 non-null  float64\n",
      " 29  wind_direction_2         284024 non-null  float64\n",
      " 30  tar_wind_direction_1     284024 non-null  float64\n",
      " 31  tar_wind_direction_2     284024 non-null  float64\n",
      "dtypes: float64(27), int64(1), object(4)\n",
      "memory usage: 69.3+ MB\n",
      "None\n",
      "timestamp_1                0\n",
      "code_1                     0\n",
      "air_pressure_1             0\n",
      "air_temperature_1          0\n",
      "relative_humidity_1        0\n",
      "precipitation_1            0\n",
      "wind_speed_1               0\n",
      "wind_direction_1           0\n",
      "timestamp_2                0\n",
      "tar_timestamp_1            0\n",
      "tar_timestamp_2            0\n",
      "code_2                     0\n",
      "tar_code_1                 0\n",
      "tar_code_2                 0\n",
      "air_pressure_2             0\n",
      "tar_air_pressure_1         0\n",
      "tar_air_pressure_2         0\n",
      "air_temperature_2          0\n",
      "tar_air_temperature_1      0\n",
      "tar_air_temperature_2      0\n",
      "relative_humidity_2        0\n",
      "tar_relative_humidity_1    0\n",
      "tar_relative_humidity_2    0\n",
      "precipitation_2            0\n",
      "tar_precipitation_1        0\n",
      "tar_precipitation_2        0\n",
      "wind_speed_2               0\n",
      "tar_wind_speed_1           0\n",
      "tar_wind_speed_2           0\n",
      "wind_direction_2           0\n",
      "tar_wind_direction_1       0\n",
      "tar_wind_direction_2       0\n",
      "dtype: int64\n",
      "Index(['timestamp_1', 'code_1', 'air_pressure_1', 'air_temperature_1',\n",
      "       'relative_humidity_1', 'precipitation_1', 'wind_speed_1',\n",
      "       'wind_direction_1', 'timestamp_2', 'tar_timestamp_1', 'tar_timestamp_2',\n",
      "       'code_2', 'tar_code_1', 'tar_code_2', 'air_pressure_2',\n",
      "       'tar_air_pressure_1', 'tar_air_pressure_2', 'air_temperature_2',\n",
      "       'tar_air_temperature_1', 'tar_air_temperature_2', 'relative_humidity_2',\n",
      "       'tar_relative_humidity_1', 'tar_relative_humidity_2', 'precipitation_2',\n",
      "       'tar_precipitation_1', 'tar_precipitation_2', 'wind_speed_2',\n",
      "       'tar_wind_speed_1', 'tar_wind_speed_2', 'wind_direction_2',\n",
      "       'tar_wind_direction_1', 'tar_wind_direction_2'],\n",
      "      dtype='object')\n"
     ]
    }
   ],
   "source": [
    "import numpy as np\n",
    "import pandas as pd\n",
    "import matplotlib.pyplot as plt\n",
    "import seaborn as sns\n",
    "\n",
    "from datasets import load_dataset\n",
    "\n",
    "# Load dataset dari Hugging Face\n",
    "ds = load_dataset(\"syntaxnoob/weather-prediction-prototype-aws\")\n",
    "\n",
    "# Konversi ke Pandas DataFrame\n",
    "df = ds['train'].to_pandas()\n",
    "\n",
    "# Cek 5 data pertama\n",
    "print(df.head())\n",
    "\n",
    "# Cek informasi dataset\n",
    "print(df.info())\n",
    "\n",
    "# Cek missing values\n",
    "print(df.isnull().sum())\n",
    "\n",
    "print(df.columns) "
   ]
  },
  {
   "cell_type": "code",
   "execution_count": 2,
   "metadata": {},
   "outputs": [
    {
     "name": "stdout",
     "output_type": "stream",
     "text": [
      "[0 1]\n"
     ]
    }
   ],
   "source": [
    "# Pilih fitur (variabel independen)\n",
    "X = df[['air_temperature_1', 'relative_humidity_1', 'air_pressure_1', 'precipitation_1', 'wind_speed_1', 'wind_direction_1']]\n",
    "\n",
    "# Pilih target (variabel dependen)\n",
    "y = df['code_1']  # Misalnya, ini kode cuaca yang ingin diprediksi\n",
    "\n",
    "# Pastikan apakah target perlu diubah ke angka (jika masih kategori)\n",
    "from sklearn.preprocessing import LabelEncoder\n",
    "label_encoder = LabelEncoder()\n",
    "y = label_encoder.fit_transform(y)\n",
    "\n",
    "# Cek hasil encoding kategori cuaca\n",
    "print(label_encoder.classes_)\n"
   ]
  },
  {
   "cell_type": "code",
   "execution_count": 3,
   "metadata": {},
   "outputs": [
    {
     "name": "stdout",
     "output_type": "stream",
     "text": [
      "Ukuran data latih: (227219, 6)\n",
      "Ukuran data uji: (56805, 6)\n"
     ]
    }
   ],
   "source": [
    "from sklearn.model_selection import train_test_split\n",
    "\n",
    "X_train, X_test, y_train, y_test = train_test_split(X, y, test_size=0.2, random_state=42)\n",
    "\n",
    "print(\"Ukuran data latih:\", X_train.shape)\n",
    "print(\"Ukuran data uji:\", X_test.shape)\n"
   ]
  },
  {
   "cell_type": "code",
   "execution_count": 4,
   "metadata": {},
   "outputs": [
    {
     "name": "stdout",
     "output_type": "stream",
     "text": [
      "Akurasi model: 0.99\n"
     ]
    }
   ],
   "source": [
    "from sklearn.tree import DecisionTreeClassifier\n",
    "from sklearn.metrics import accuracy_score\n",
    "\n",
    "# Inisialisasi model Decision Tree\n",
    "model = DecisionTreeClassifier()\n",
    "\n",
    "# Latih model\n",
    "model.fit(X_train, y_train)\n",
    "\n",
    "# Prediksi data uji\n",
    "y_pred = model.predict(X_test)\n",
    "\n",
    "# Evaluasi akurasi\n",
    "accuracy = accuracy_score(y_test, y_pred)\n",
    "print(f\"Akurasi model: {accuracy:.2f}\")\n"
   ]
  },
  {
   "cell_type": "code",
   "execution_count": 5,
   "metadata": {},
   "outputs": [
    {
     "name": "stdout",
     "output_type": "stream",
     "text": [
      "Akurasi Random Forest: 0.99\n"
     ]
    }
   ],
   "source": [
    "from sklearn.ensemble import RandomForestClassifier\n",
    "\n",
    "rf_model = RandomForestClassifier(n_estimators=100, random_state=42)\n",
    "rf_model.fit(X_train, y_train)\n",
    "y_pred_rf = rf_model.predict(X_test)\n",
    "\n",
    "accuracy_rf = accuracy_score(y_test, y_pred_rf)\n",
    "print(f\"Akurasi Random Forest: {accuracy_rf:.2f}\")\n"
   ]
  },
  {
   "cell_type": "code",
   "execution_count": 8,
   "metadata": {},
   "outputs": [
    {
     "name": "stdout",
     "output_type": "stream",
     "text": [
      "Prediksi Cuaca: 1\n"
     ]
    },
    {
     "name": "stderr",
     "output_type": "stream",
     "text": [
      "c:\\Users\\ASUS\\AppData\\Local\\Programs\\Python\\Python313\\Lib\\site-packages\\sklearn\\utils\\validation.py:2739: UserWarning: X does not have valid feature names, but RandomForestClassifier was fitted with feature names\n",
      "  warnings.warn(\n"
     ]
    }
   ],
   "source": [
    "# Contoh data baru (sesuaikan nilai dengan dataset)\n",
    "data_baru = np.array([[0.5, 0.8, 0.7, 0.0, 0.3, 0.1]])  # [suhu, kelembaban, tekanan, curah hujan, kecepatan angin, arah angin]\n",
    "\n",
    "# Prediksi dengan model terbaik (misalnya Random Forest)\n",
    "prediksi = rf_model.predict(data_baru)\n",
    "\n",
    "# Tampilkan hasil prediksi dalam kategori asli\n",
    "hasil_prediksi = label_encoder.inverse_transform(prediksi)\n",
    "print(\"Prediksi Cuaca:\", hasil_prediksi[0])\n"
   ]
  }
 ],
 "metadata": {
  "kernelspec": {
   "display_name": "Python 3",
   "language": "python",
   "name": "python3"
  },
  "language_info": {
   "codemirror_mode": {
    "name": "ipython",
    "version": 3
   },
   "file_extension": ".py",
   "mimetype": "text/x-python",
   "name": "python",
   "nbconvert_exporter": "python",
   "pygments_lexer": "ipython3",
   "version": "3.13.2"
  }
 },
 "nbformat": 4,
 "nbformat_minor": 2
}
